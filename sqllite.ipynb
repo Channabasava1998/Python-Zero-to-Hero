{
 "cells": [
  {
   "cell_type": "code",
   "execution_count": 1,
   "metadata": {},
   "outputs": [],
   "source": [
    "import sqlite3"
   ]
  },
  {
   "cell_type": "code",
   "execution_count": 2,
   "metadata": {},
   "outputs": [],
   "source": [
    "db=sqlite3.connect(\"ineuron.db\")"
   ]
  },
  {
   "cell_type": "code",
   "execution_count": 3,
   "metadata": {},
   "outputs": [
    {
     "name": "stdout",
     "output_type": "stream",
     "text": [
      " Volume in drive C has no label.\n",
      " Volume Serial Number is 1E31-9995\n",
      "\n",
      " Directory of C:\\Users\\Guru Basava\\Desktop\\ineuron\\Practice notes\n",
      "\n",
      "06-03-2022  23:27    <DIR>          .\n",
      "06-03-2022  23:27    <DIR>          ..\n",
      "06-03-2022  21:38    <DIR>          .ipynb_checkpoints\n",
      "27-01-2022  18:11    <DIR>          __pycache__\n",
      "07-02-2022  15:29            11,903 glass.data\n",
      "22-01-2022  19:36                 0 google.txt\n",
      "06-03-2022  22:38             8,192 ineuron.db\n",
      "06-03-2022  22:58            12,288 joindb.db\n",
      "06-03-2022  23:17             8,720 joindb.db-journal\n",
      "06-03-2022  21:30            10,354 MongoDB.ipynb\n",
      "26-01-2022  15:33               224 my_module.py\n",
      "27-01-2022  18:03                 0 mydict\n",
      "27-01-2022  18:06               615 mydict.py\n",
      "06-03-2022  22:35             8,192 person.db\n",
      "05-02-2022  14:05            98,140 Practice 2.ipynb\n",
      "01-02-2022  15:48           265,124 Practice-01.ipynb\n",
      "09-02-2022  17:53           212,115 SQL practice.ipynb\n",
      "06-03-2022  23:27            28,885 sqllite.ipynb\n",
      "24-01-2022  19:14            13,193 Task 1.ipynb\n",
      "27-01-2022  18:02                 0 test 1.py\n",
      "25-01-2022  15:58               342 test.log\n",
      "24-01-2022  17:47                18 test.txt\n",
      "24-01-2022  22:38                22 test1.txt\n",
      "25-01-2022  16:11               436 test2.log\n",
      "26-01-2022  15:01               136 test2.py\n",
      "22-01-2022  19:15                36 test2.txt\n",
      "25-01-2022  16:32             4,532 test3.log\n",
      "26-02-2022  10:15                72 Untitled1.ipynb\n",
      "              24 File(s)        683,539 bytes\n",
      "               4 Dir(s)  163,133,526,016 bytes free\n"
     ]
    }
   ],
   "source": [
    "ls"
   ]
  },
  {
   "cell_type": "code",
   "execution_count": 5,
   "metadata": {},
   "outputs": [],
   "source": [
    "c=db.cursor()"
   ]
  },
  {
   "cell_type": "code",
   "execution_count": 6,
   "metadata": {},
   "outputs": [
    {
     "data": {
      "text/plain": [
       "<sqlite3.Cursor at 0x1e4193b3340>"
      ]
     },
     "execution_count": 6,
     "metadata": {},
     "output_type": "execute_result"
    }
   ],
   "source": [
    "c.execute('create table fsds(name text, batchid int, marks real)')"
   ]
  },
  {
   "cell_type": "code",
   "execution_count": 7,
   "metadata": {},
   "outputs": [
    {
     "name": "stdout",
     "output_type": "stream",
     "text": [
      " Volume in drive C has no label.\n",
      " Volume Serial Number is 1E31-9995\n",
      "\n",
      " Directory of C:\\Users\\Guru Basava\\Desktop\\ineuron\\Practice notes\n",
      "\n",
      "07-03-2022  11:03    <DIR>          .\n",
      "07-03-2022  11:03    <DIR>          ..\n",
      "06-03-2022  21:38    <DIR>          .ipynb_checkpoints\n",
      "27-01-2022  18:11    <DIR>          __pycache__\n",
      "07-02-2022  15:29            11,903 glass.data\n",
      "22-01-2022  19:36                 0 google.txt\n",
      "07-03-2022  11:03             8,192 ineuron.db\n",
      "06-03-2022  22:58            12,288 joindb.db\n",
      "06-03-2022  23:17             8,720 joindb.db-journal\n",
      "06-03-2022  21:30            10,354 MongoDB.ipynb\n",
      "26-01-2022  15:33               224 my_module.py\n",
      "27-01-2022  18:03                 0 mydict\n",
      "27-01-2022  18:06               615 mydict.py\n",
      "06-03-2022  22:35             8,192 person.db\n",
      "05-02-2022  14:05            98,140 Practice 2.ipynb\n",
      "01-02-2022  15:48           265,124 Practice-01.ipynb\n",
      "09-02-2022  17:53           212,115 SQL practice.ipynb\n",
      "07-03-2022  11:02            29,670 sqllite.ipynb\n",
      "24-01-2022  19:14            13,193 Task 1.ipynb\n",
      "27-01-2022  18:02                 0 test 1.py\n",
      "25-01-2022  15:58               342 test.log\n",
      "24-01-2022  17:47                18 test.txt\n",
      "24-01-2022  22:38                22 test1.txt\n",
      "25-01-2022  16:11               436 test2.log\n",
      "26-01-2022  15:01               136 test2.py\n",
      "22-01-2022  19:15                36 test2.txt\n",
      "25-01-2022  16:32             4,532 test3.log\n",
      "26-02-2022  10:15                72 Untitled1.ipynb\n",
      "              24 File(s)        684,324 bytes\n",
      "               4 Dir(s)  163,138,494,464 bytes free\n"
     ]
    }
   ],
   "source": [
    "ls"
   ]
  },
  {
   "cell_type": "code",
   "execution_count": 8,
   "metadata": {},
   "outputs": [
    {
     "data": {
      "text/plain": [
       "<sqlite3.Cursor at 0x1e4193b3340>"
      ]
     },
     "execution_count": 8,
     "metadata": {},
     "output_type": "execute_result"
    }
   ],
   "source": [
    "c.execute(\"insert into fsds values('sudh',112233,454.67)\")"
   ]
  },
  {
   "cell_type": "code",
   "execution_count": 9,
   "metadata": {},
   "outputs": [
    {
     "data": {
      "text/plain": [
       "<sqlite3.Cursor at 0x1e4193b3340>"
      ]
     },
     "execution_count": 9,
     "metadata": {},
     "output_type": "execute_result"
    }
   ],
   "source": [
    "c.execute(\"insert into fsds values('sudh',112233,354.67)\")\n",
    "c.execute(\"insert into fsds values('sudh',112233,454.67)\")\n",
    "c.execute(\"insert into fsds values('sudh',112233,464.67)\")\n",
    "c.execute(\"insert into fsds values('sudh',112233,474.67)\")\n",
    "c.execute(\"insert into fsds values('sudh',112233,484.67)\")\n",
    "c.execute(\"insert into fsds values('sudh',112233,494.67)\")"
   ]
  },
  {
   "cell_type": "code",
   "execution_count": 10,
   "metadata": {},
   "outputs": [
    {
     "name": "stdout",
     "output_type": "stream",
     "text": [
      " Volume in drive C has no label.\n",
      " Volume Serial Number is 1E31-9995\n",
      "\n",
      " Directory of C:\\Users\\Guru Basava\\Desktop\\ineuron\\Practice notes\n",
      "\n",
      "07-03-2022  11:03    <DIR>          .\n",
      "07-03-2022  11:03    <DIR>          ..\n",
      "06-03-2022  21:38    <DIR>          .ipynb_checkpoints\n",
      "27-01-2022  18:11    <DIR>          __pycache__\n",
      "07-02-2022  15:29            11,903 glass.data\n",
      "22-01-2022  19:36                 0 google.txt\n",
      "07-03-2022  11:03             8,192 ineuron.db\n",
      "07-03-2022  11:03             4,616 ineuron.db-journal\n",
      "06-03-2022  22:58            12,288 joindb.db\n",
      "06-03-2022  23:17             8,720 joindb.db-journal\n",
      "06-03-2022  21:30            10,354 MongoDB.ipynb\n",
      "26-01-2022  15:33               224 my_module.py\n",
      "27-01-2022  18:03                 0 mydict\n",
      "27-01-2022  18:06               615 mydict.py\n",
      "06-03-2022  22:35             8,192 person.db\n",
      "05-02-2022  14:05            98,140 Practice 2.ipynb\n",
      "01-02-2022  15:48           265,124 Practice-01.ipynb\n",
      "09-02-2022  17:53           212,115 SQL practice.ipynb\n",
      "07-03-2022  11:02            29,670 sqllite.ipynb\n",
      "24-01-2022  19:14            13,193 Task 1.ipynb\n",
      "27-01-2022  18:02                 0 test 1.py\n",
      "25-01-2022  15:58               342 test.log\n",
      "24-01-2022  17:47                18 test.txt\n",
      "24-01-2022  22:38                22 test1.txt\n",
      "25-01-2022  16:11               436 test2.log\n",
      "26-01-2022  15:01               136 test2.py\n",
      "22-01-2022  19:15                36 test2.txt\n",
      "25-01-2022  16:32             4,532 test3.log\n",
      "26-02-2022  10:15                72 Untitled1.ipynb\n",
      "              25 File(s)        688,940 bytes\n",
      "               4 Dir(s)  163,138,486,272 bytes free\n"
     ]
    }
   ],
   "source": [
    "ls"
   ]
  },
  {
   "cell_type": "code",
   "execution_count": 11,
   "metadata": {},
   "outputs": [],
   "source": [
    "data=c.execute(\"select * from fsds\")"
   ]
  },
  {
   "cell_type": "code",
   "execution_count": 12,
   "metadata": {},
   "outputs": [
    {
     "name": "stdout",
     "output_type": "stream",
     "text": [
      "('sudh', 112233, 454.67)\n",
      "('sudh', 112233, 354.67)\n",
      "('sudh', 112233, 454.67)\n",
      "('sudh', 112233, 464.67)\n",
      "('sudh', 112233, 474.67)\n",
      "('sudh', 112233, 484.67)\n",
      "('sudh', 112233, 494.67)\n"
     ]
    }
   ],
   "source": [
    "for i in data:\n",
    "    print(i)"
   ]
  },
  {
   "cell_type": "code",
   "execution_count": 14,
   "metadata": {},
   "outputs": [],
   "source": [
    "db.commit()"
   ]
  },
  {
   "cell_type": "code",
   "execution_count": 15,
   "metadata": {},
   "outputs": [],
   "source": [
    "db.close()    # to close databases"
   ]
  },
  {
   "cell_type": "code",
   "execution_count": 16,
   "metadata": {},
   "outputs": [],
   "source": [
    "db=sqlite3.connect('ineuron.db')"
   ]
  },
  {
   "cell_type": "code",
   "execution_count": 17,
   "metadata": {},
   "outputs": [],
   "source": [
    "c=db.cursor()"
   ]
  },
  {
   "cell_type": "code",
   "execution_count": 18,
   "metadata": {},
   "outputs": [],
   "source": [
    "data=c.execute(\"select * from fsds where marks >400\")"
   ]
  },
  {
   "cell_type": "code",
   "execution_count": 19,
   "metadata": {},
   "outputs": [
    {
     "name": "stdout",
     "output_type": "stream",
     "text": [
      "('sudh', 112233, 454.67)\n",
      "('sudh', 112233, 454.67)\n",
      "('sudh', 112233, 464.67)\n",
      "('sudh', 112233, 474.67)\n",
      "('sudh', 112233, 484.67)\n",
      "('sudh', 112233, 494.67)\n"
     ]
    }
   ],
   "source": [
    "for i in data:\n",
    "    print(i)"
   ]
  },
  {
   "cell_type": "code",
   "execution_count": 20,
   "metadata": {},
   "outputs": [],
   "source": [
    "data=c.execute(\"select * from fsds where name='sudh'\")"
   ]
  },
  {
   "cell_type": "code",
   "execution_count": 21,
   "metadata": {},
   "outputs": [
    {
     "name": "stdout",
     "output_type": "stream",
     "text": [
      "('sudh', 112233, 454.67)\n",
      "('sudh', 112233, 354.67)\n",
      "('sudh', 112233, 454.67)\n",
      "('sudh', 112233, 464.67)\n",
      "('sudh', 112233, 474.67)\n",
      "('sudh', 112233, 484.67)\n",
      "('sudh', 112233, 494.67)\n"
     ]
    }
   ],
   "source": [
    "for i in data:\n",
    "    print(i)"
   ]
  },
  {
   "cell_type": "code",
   "execution_count": 22,
   "metadata": {},
   "outputs": [],
   "source": [
    "data=c.execute(\"select name, marks from fsds\")"
   ]
  },
  {
   "cell_type": "code",
   "execution_count": 23,
   "metadata": {},
   "outputs": [
    {
     "name": "stdout",
     "output_type": "stream",
     "text": [
      "('sudh', 454.67)\n",
      "('sudh', 354.67)\n",
      "('sudh', 454.67)\n",
      "('sudh', 464.67)\n",
      "('sudh', 474.67)\n",
      "('sudh', 484.67)\n",
      "('sudh', 494.67)\n"
     ]
    }
   ],
   "source": [
    "for i in data:\n",
    "    print(i)"
   ]
  },
  {
   "cell_type": "code",
   "execution_count": 24,
   "metadata": {},
   "outputs": [],
   "source": [
    "data=c.execute(\"select name, marks from fsds order by marks\")"
   ]
  },
  {
   "cell_type": "code",
   "execution_count": 25,
   "metadata": {},
   "outputs": [
    {
     "name": "stdout",
     "output_type": "stream",
     "text": [
      "('sudh', 354.67)\n",
      "('sudh', 454.67)\n",
      "('sudh', 454.67)\n",
      "('sudh', 464.67)\n",
      "('sudh', 474.67)\n",
      "('sudh', 484.67)\n",
      "('sudh', 494.67)\n"
     ]
    }
   ],
   "source": [
    "for i in data:\n",
    "    print(i)"
   ]
  },
  {
   "cell_type": "code",
   "execution_count": 26,
   "metadata": {},
   "outputs": [],
   "source": [
    "db.commit()"
   ]
  },
  {
   "cell_type": "code",
   "execution_count": 27,
   "metadata": {},
   "outputs": [],
   "source": [
    "db.close()"
   ]
  },
  {
   "cell_type": "code",
   "execution_count": 28,
   "metadata": {},
   "outputs": [],
   "source": [
    "db=sqlite3.connect(\"person.db\")"
   ]
  },
  {
   "cell_type": "code",
   "execution_count": 29,
   "metadata": {},
   "outputs": [],
   "source": [
    "c=db.cursor()"
   ]
  },
  {
   "cell_type": "code",
   "execution_count": 30,
   "metadata": {},
   "outputs": [
    {
     "ename": "OperationalError",
     "evalue": "table person_table already exists",
     "output_type": "error",
     "traceback": [
      "\u001b[1;31m---------------------------------------------------------------------------\u001b[0m",
      "\u001b[1;31mOperationalError\u001b[0m                          Traceback (most recent call last)",
      "\u001b[1;32m<ipython-input-30-f7e9cedb5921>\u001b[0m in \u001b[0;36m<module>\u001b[1;34m\u001b[0m\n\u001b[1;32m----> 1\u001b[1;33m \u001b[0mc\u001b[0m\u001b[1;33m.\u001b[0m\u001b[0mexecute\u001b[0m\u001b[1;33m(\u001b[0m\u001b[1;34m\"create table person_table(name text,mailid text,age int,salary real)\"\u001b[0m\u001b[1;33m)\u001b[0m\u001b[1;33m\u001b[0m\u001b[1;33m\u001b[0m\u001b[0m\n\u001b[0m",
      "\u001b[1;31mOperationalError\u001b[0m: table person_table already exists"
     ]
    }
   ],
   "source": [
    "c.execute(\"create table person_table(name text,mailid text,age int,salary real)\")"
   ]
  },
  {
   "cell_type": "code",
   "execution_count": 31,
   "metadata": {},
   "outputs": [
    {
     "data": {
      "text/plain": [
       "<sqlite3.Cursor at 0x1e419703490>"
      ]
     },
     "execution_count": 31,
     "metadata": {},
     "output_type": "execute_result"
    }
   ],
   "source": [
    "c.execute(\"insert into person_table values('sudh','sudh@ineuron.ai',45,25000)\")\n",
    "c.execute(\"insert into person_table values('krish','krish@ineuron.ai',46,26000)\")\n",
    "c.execute(\"insert into person_table values('channu','channu@ineuron.ai',24,60000)\")\n",
    "c.execute(\"insert into person_table values('sarv','sarv@ineuron.ai',25,80000)\")"
   ]
  },
  {
   "cell_type": "code",
   "execution_count": 32,
   "metadata": {},
   "outputs": [],
   "source": [
    "data=c.execute(\"select * from person_table\")"
   ]
  },
  {
   "cell_type": "code",
   "execution_count": 33,
   "metadata": {},
   "outputs": [
    {
     "name": "stdout",
     "output_type": "stream",
     "text": [
      "('sudh', 'sudh@ineuron.ai', 45, 25000.0)\n",
      "('krish', 'krish@ineuron.ai', 46, 26000.0)\n",
      "('channu', 'channu@ineuron.ai', 24, 60000.0)\n",
      "('sarv', 'sarv@ineuron.ai', 25, 80000.0)\n",
      "('sudh', 'sudh@ineuron.ai', 45, 25000.0)\n",
      "('krish', 'krish@ineuron.ai', 46, 26000.0)\n",
      "('channu', 'channu@ineuron.ai', 24, 60000.0)\n",
      "('sarv', 'sarv@ineuron.ai', 25, 80000.0)\n"
     ]
    }
   ],
   "source": [
    "for i in data:\n",
    "    print(i)"
   ]
  },
  {
   "cell_type": "code",
   "execution_count": 34,
   "metadata": {},
   "outputs": [],
   "source": [
    "db.commit()"
   ]
  },
  {
   "cell_type": "code",
   "execution_count": 35,
   "metadata": {},
   "outputs": [
    {
     "data": {
      "text/plain": [
       "<function Connection.close>"
      ]
     },
     "execution_count": 35,
     "metadata": {},
     "output_type": "execute_result"
    }
   ],
   "source": [
    "db.close"
   ]
  },
  {
   "cell_type": "code",
   "execution_count": 36,
   "metadata": {},
   "outputs": [],
   "source": [
    "db=sqlite3.connect('ineuron.db') # again connecting to the old database"
   ]
  },
  {
   "cell_type": "code",
   "execution_count": 37,
   "metadata": {},
   "outputs": [],
   "source": [
    "c=db.cursor()"
   ]
  },
  {
   "cell_type": "code",
   "execution_count": 38,
   "metadata": {},
   "outputs": [
    {
     "data": {
      "text/plain": [
       "<sqlite3.Cursor at 0x1e4196e2d50>"
      ]
     },
     "execution_count": 38,
     "metadata": {},
     "output_type": "execute_result"
    }
   ],
   "source": [
    "c.execute('drop table fsds') # deleting table from database"
   ]
  },
  {
   "cell_type": "code",
   "execution_count": 39,
   "metadata": {},
   "outputs": [
    {
     "ename": "OperationalError",
     "evalue": "no such table: fsds",
     "output_type": "error",
     "traceback": [
      "\u001b[1;31m---------------------------------------------------------------------------\u001b[0m",
      "\u001b[1;31mOperationalError\u001b[0m                          Traceback (most recent call last)",
      "\u001b[1;32m<ipython-input-39-b75bf689a57c>\u001b[0m in \u001b[0;36m<module>\u001b[1;34m\u001b[0m\n\u001b[1;32m----> 1\u001b[1;33m \u001b[0mc\u001b[0m\u001b[1;33m.\u001b[0m\u001b[0mexecute\u001b[0m\u001b[1;33m(\u001b[0m\u001b[1;34m'select * from fsds'\u001b[0m\u001b[1;33m)\u001b[0m\u001b[1;33m\u001b[0m\u001b[1;33m\u001b[0m\u001b[0m\n\u001b[0m",
      "\u001b[1;31mOperationalError\u001b[0m: no such table: fsds"
     ]
    }
   ],
   "source": [
    "c.execute('select * from fsds')"
   ]
  },
  {
   "cell_type": "code",
   "execution_count": 40,
   "metadata": {},
   "outputs": [],
   "source": [
    "db.close()"
   ]
  },
  {
   "cell_type": "code",
   "execution_count": 41,
   "metadata": {},
   "outputs": [],
   "source": [
    "db=sqlite3.connect('person.db')"
   ]
  },
  {
   "cell_type": "code",
   "execution_count": 42,
   "metadata": {},
   "outputs": [],
   "source": [
    "c=db.cursor()"
   ]
  },
  {
   "cell_type": "code",
   "execution_count": 43,
   "metadata": {},
   "outputs": [],
   "source": [
    "data=c.execute('select * from person_table limit 2')"
   ]
  },
  {
   "cell_type": "code",
   "execution_count": 44,
   "metadata": {},
   "outputs": [
    {
     "name": "stdout",
     "output_type": "stream",
     "text": [
      "('sudh', 'sudh@ineuron.ai', 45, 25000.0)\n",
      "('krish', 'krish@ineuron.ai', 46, 26000.0)\n"
     ]
    }
   ],
   "source": [
    "for i in data:\n",
    "    print(i)"
   ]
  },
  {
   "cell_type": "code",
   "execution_count": 45,
   "metadata": {},
   "outputs": [],
   "source": [
    "db.close()"
   ]
  },
  {
   "cell_type": "code",
   "execution_count": 46,
   "metadata": {},
   "outputs": [],
   "source": [
    "db=sqlite3.connect('joindb.db')"
   ]
  },
  {
   "cell_type": "code",
   "execution_count": 47,
   "metadata": {},
   "outputs": [],
   "source": [
    "c=db.cursor()"
   ]
  },
  {
   "cell_type": "code",
   "execution_count": 48,
   "metadata": {},
   "outputs": [
    {
     "ename": "OperationalError",
     "evalue": "table student already exists",
     "output_type": "error",
     "traceback": [
      "\u001b[1;31m---------------------------------------------------------------------------\u001b[0m",
      "\u001b[1;31mOperationalError\u001b[0m                          Traceback (most recent call last)",
      "\u001b[1;32m<ipython-input-48-b3a35aa30704>\u001b[0m in \u001b[0;36m<module>\u001b[1;34m\u001b[0m\n\u001b[1;32m----> 1\u001b[1;33m \u001b[0mc\u001b[0m\u001b[1;33m.\u001b[0m\u001b[0mexecute\u001b[0m\u001b[1;33m(\u001b[0m\u001b[1;34m'create table student(student_id int,name text, mailid text,marks int)'\u001b[0m\u001b[1;33m)\u001b[0m\u001b[1;33m\u001b[0m\u001b[1;33m\u001b[0m\u001b[0m\n\u001b[0m",
      "\u001b[1;31mOperationalError\u001b[0m: table student already exists"
     ]
    }
   ],
   "source": [
    "c.execute('create table student(student_id int,name text, mailid text,marks int)')"
   ]
  },
  {
   "cell_type": "code",
   "execution_count": 78,
   "metadata": {},
   "outputs": [
    {
     "data": {
      "text/plain": [
       "<sqlite3.Cursor at 0x1d0777a0dc0>"
      ]
     },
     "execution_count": 78,
     "metadata": {},
     "output_type": "execute_result"
    }
   ],
   "source": [
    "c.execute('create table adress(student_id int,pincode int,location text,nearby text,phone_no int)')"
   ]
  },
  {
   "cell_type": "code",
   "execution_count": 49,
   "metadata": {},
   "outputs": [
    {
     "data": {
      "text/plain": [
       "<sqlite3.Cursor at 0x1e419476dc0>"
      ]
     },
     "execution_count": 49,
     "metadata": {},
     "output_type": "execute_result"
    }
   ],
   "source": [
    "c.execute(\"insert into student values(100,'audh','audh@ineuron.ai',200)\")\n",
    "c.execute(\"insert into student values(101,'budh','budh@ineuron.ai',201)\")\n",
    "c.execute(\"insert into student values(102,'cudh','cudh@ineuron.ai',202)\")\n",
    "c.execute(\"insert into student values(103,'dudh','dudh@ineuron.ai',203)\")\n",
    "c.execute(\"insert into student values(104,'eudh','eudh@ineuron.ai',204)\")\n",
    "c.execute(\"insert into student values(105,'fudh','fudh@ineuron.ai',205)\")\n",
    "c.execute(\"insert into student values(106,'gudh','gudh@ineuron.ai',206)\")\n",
    "c.execute(\"insert into student values(107,'hudh','hudh@ineuron.ai',207)\")\n",
    "c.execute(\"insert into student values(108,'iudh','iudh@ineuron.ai',208)\")\n",
    "c.execute(\"insert into student values(109,'judh','judh@ineuron.ai',209)\")\n",
    "c.execute(\"insert into student values(110,'kudh','kudh@ineuron.ai',210)\")\n",
    "c.execute(\"insert into student values(111,'mudh','mudh@ineuron.ai',211)\")"
   ]
  },
  {
   "cell_type": "code",
   "execution_count": 50,
   "metadata": {},
   "outputs": [
    {
     "data": {
      "text/plain": [
       "<sqlite3.Cursor at 0x1e419476dc0>"
      ]
     },
     "execution_count": 50,
     "metadata": {},
     "output_type": "execute_result"
    }
   ],
   "source": [
    "c.execute(\"insert into adress values(100 , 560034 , 'whitefelid' ,'ineuron office ' , 2423543454353 )\")\n",
    "c.execute(\"insert into adress values(101 , 560034 , 'whitefelid' ,'ineuron office ' , 2423543454353 )\")\n",
    "c.execute(\"insert into adress values(102 , 560034 , 'whitefelid' ,'ineuron office ' , 2423543454353 )\")\n",
    "c.execute(\"insert into adress values(103 , 560034 , 'whitefelid' ,'ineuron office ' , 2423543454353 )\")\n",
    "c.execute(\"insert into adress values(104 , 560034 , 'whitefelid' ,'ineuron office ' , 2423543454353 )\")\n",
    "c.execute(\"insert into adress values(23345 , 560034 , 'whitefelid' ,'ineuron office ' , 2423543454353 )\")\n",
    "c.execute(\"insert into adress values(23345 , 560034 , 'whitefelid' ,'ineuron office ' , 2423543454353 )\")\n",
    "c.execute(\"insert into adress values(23654 , 560034 , 'whitefelid' ,'ineuron office ' , 2423543454353 )\")\n",
    "c.execute(\"insert into adress values(235345 , 560034 , 'whitefelid' ,'ineuron office ' , 2423543454353 )\")\n",
    "c.execute(\"insert into adress values(23665 , 560034 , 'whitefelid' ,'ineuron office ' , 2423543454353 )\")\n",
    "c.execute(\"insert into adress values(23623 , 560034 , 'whitefelid' ,'ineuron office ' , 2423543454353 )\")\n",
    "c.execute(\"insert into adress values(23689 , 560034 , 'whitefelid' ,'ineuron office ' , 2423543454353 )\")\n",
    "c.execute(\"insert into adress values(23609 , 560034 , 'whitefelid' ,'ineuron office ' , 2423543454353 )\")\n",
    "c.execute(\"insert into adress values(23632 , 560034 , 'whitefelid' ,'ineuron office ' , 2423543454353 )\")\n",
    "c.execute(\"insert into adress values(23689 , 560034 , 'whitefelid' ,'ineuron office ' , 2423543454353 )\")\n",
    "c.execute(\"insert into adress values(23623 , 560034 , 'whitefelid' ,'ineuron office ' , 2423543454353 )\")\n",
    "c.execute(\"insert into adress values(23698 , 560034 , 'whitefelid' ,'ineuron office ' , 2423543454353 )\")\n",
    "c.execute(\"insert into adress values(23623 , 560034 , 'whitefelid' ,'ineuron office ' , 2423543454353 )\")\n",
    "c.execute(\"insert into adress values(23689 , 560034 , 'whitefelid' ,'ineuron office ' , 2423543454353 )\")\n",
    "c.execute(\"insert into adress values(23623 , 560034 , 'whitefelid' ,'ineuron office ' , 2423543454353 )\")\n",
    "c.execute(\"insert into adress values(23690 , 560034 , 'whitefelid' ,'ineuron office ' , 2423543454353 )\")"
   ]
  },
  {
   "cell_type": "code",
   "execution_count": 51,
   "metadata": {},
   "outputs": [
    {
     "name": "stdout",
     "output_type": "stream",
     "text": [
      "(100, 560034, 'whitefelid', 'ineuron office ', 2423543454353)\n",
      "(101, 560034, 'whitefelid', 'ineuron office ', 2423543454353)\n",
      "(102, 560034, 'whitefelid', 'ineuron office ', 2423543454353)\n",
      "(103, 560034, 'whitefelid', 'ineuron office ', 2423543454353)\n",
      "(104, 560034, 'whitefelid', 'ineuron office ', 2423543454353)\n",
      "(23345, 560034, 'whitefelid', 'ineuron office ', 2423543454353)\n",
      "(23345, 560034, 'whitefelid', 'ineuron office ', 2423543454353)\n",
      "(23654, 560034, 'whitefelid', 'ineuron office ', 2423543454353)\n",
      "(235345, 560034, 'whitefelid', 'ineuron office ', 2423543454353)\n",
      "(23665, 560034, 'whitefelid', 'ineuron office ', 2423543454353)\n",
      "(23623, 560034, 'whitefelid', 'ineuron office ', 2423543454353)\n",
      "(23689, 560034, 'whitefelid', 'ineuron office ', 2423543454353)\n",
      "(23609, 560034, 'whitefelid', 'ineuron office ', 2423543454353)\n",
      "(23632, 560034, 'whitefelid', 'ineuron office ', 2423543454353)\n",
      "(23689, 560034, 'whitefelid', 'ineuron office ', 2423543454353)\n",
      "(23623, 560034, 'whitefelid', 'ineuron office ', 2423543454353)\n",
      "(23698, 560034, 'whitefelid', 'ineuron office ', 2423543454353)\n",
      "(23623, 560034, 'whitefelid', 'ineuron office ', 2423543454353)\n",
      "(23689, 560034, 'whitefelid', 'ineuron office ', 2423543454353)\n",
      "(23623, 560034, 'whitefelid', 'ineuron office ', 2423543454353)\n",
      "(23690, 560034, 'whitefelid', 'ineuron office ', 2423543454353)\n"
     ]
    }
   ],
   "source": [
    "for i in c.execute(\"select * from adress\"):\n",
    "    print(i)"
   ]
  },
  {
   "cell_type": "code",
   "execution_count": 52,
   "metadata": {},
   "outputs": [
    {
     "name": "stdout",
     "output_type": "stream",
     "text": [
      "(100, 'audh', 'audh@ineuron.ai', 200)\n",
      "(101, 'budh', 'budh@ineuron.ai', 201)\n",
      "(102, 'cudh', 'cudh@ineuron.ai', 202)\n",
      "(103, 'dudh', 'dudh@ineuron.ai', 203)\n",
      "(104, 'eudh', 'eudh@ineuron.ai', 204)\n",
      "(105, 'fudh', 'fudh@ineuron.ai', 205)\n",
      "(106, 'gudh', 'gudh@ineuron.ai', 206)\n",
      "(107, 'hudh', 'hudh@ineuron.ai', 207)\n",
      "(108, 'iudh', 'iudh@ineuron.ai', 208)\n",
      "(109, 'judh', 'judh@ineuron.ai', 209)\n",
      "(110, 'kudh', 'kudh@ineuron.ai', 210)\n",
      "(111, 'mudh', 'mudh@ineuron.ai', 211)\n"
     ]
    }
   ],
   "source": [
    "for i in c.execute(\"select * from student\"):\n",
    "    print(i)"
   ]
  },
  {
   "cell_type": "code",
   "execution_count": 53,
   "metadata": {},
   "outputs": [],
   "source": [
    "data = c.execute(\"select * from student s left join adress a on s.student_id=a.student_id \")\n"
   ]
  },
  {
   "cell_type": "code",
   "execution_count": 54,
   "metadata": {},
   "outputs": [
    {
     "name": "stdout",
     "output_type": "stream",
     "text": [
      "(100, 'audh', 'audh@ineuron.ai', 200, 100, 560034, 'whitefelid', 'ineuron office ', 2423543454353)\n",
      "(101, 'budh', 'budh@ineuron.ai', 201, 101, 560034, 'whitefelid', 'ineuron office ', 2423543454353)\n",
      "(102, 'cudh', 'cudh@ineuron.ai', 202, 102, 560034, 'whitefelid', 'ineuron office ', 2423543454353)\n",
      "(103, 'dudh', 'dudh@ineuron.ai', 203, 103, 560034, 'whitefelid', 'ineuron office ', 2423543454353)\n",
      "(104, 'eudh', 'eudh@ineuron.ai', 204, 104, 560034, 'whitefelid', 'ineuron office ', 2423543454353)\n",
      "(105, 'fudh', 'fudh@ineuron.ai', 205, None, None, None, None, None)\n",
      "(106, 'gudh', 'gudh@ineuron.ai', 206, None, None, None, None, None)\n",
      "(107, 'hudh', 'hudh@ineuron.ai', 207, None, None, None, None, None)\n",
      "(108, 'iudh', 'iudh@ineuron.ai', 208, None, None, None, None, None)\n",
      "(109, 'judh', 'judh@ineuron.ai', 209, None, None, None, None, None)\n",
      "(110, 'kudh', 'kudh@ineuron.ai', 210, None, None, None, None, None)\n",
      "(111, 'mudh', 'mudh@ineuron.ai', 211, None, None, None, None, None)\n"
     ]
    }
   ],
   "source": [
    "for i in data:\n",
    "    print(i)"
   ]
  },
  {
   "cell_type": "code",
   "execution_count": null,
   "metadata": {},
   "outputs": [],
   "source": [
    "where a.student_id is not null"
   ]
  },
  {
   "cell_type": "code",
   "execution_count": 56,
   "metadata": {},
   "outputs": [
    {
     "ename": "OperationalError",
     "evalue": "RIGHT and FULL OUTER JOINs are not currently supported",
     "output_type": "error",
     "traceback": [
      "\u001b[1;31m---------------------------------------------------------------------------\u001b[0m",
      "\u001b[1;31mOperationalError\u001b[0m                          Traceback (most recent call last)",
      "\u001b[1;32m<ipython-input-56-f0b3380e4570>\u001b[0m in \u001b[0;36m<module>\u001b[1;34m\u001b[0m\n\u001b[1;32m----> 1\u001b[1;33m \u001b[0mdata\u001b[0m \u001b[1;33m=\u001b[0m \u001b[0mc\u001b[0m\u001b[1;33m.\u001b[0m\u001b[0mexecute\u001b[0m\u001b[1;33m(\u001b[0m\u001b[1;34m\"select * from student s right join adress a on s.student_id=a.student_id \"\u001b[0m\u001b[1;33m)\u001b[0m\u001b[1;33m\u001b[0m\u001b[1;33m\u001b[0m\u001b[0m\n\u001b[0m",
      "\u001b[1;31mOperationalError\u001b[0m: RIGHT and FULL OUTER JOINs are not currently supported"
     ]
    }
   ],
   "source": [
    "data = c.execute(\"select * from student s right join adress a on s.student_id=a.student_id \")\n",
    "# rightjoin and full join not available in sqllite"
   ]
  },
  {
   "cell_type": "code",
   "execution_count": 57,
   "metadata": {},
   "outputs": [],
   "source": [
    "data = c.execute(\"select * from adress s left join student a on s.student_id=a.student_id \")\n"
   ]
  },
  {
   "cell_type": "code",
   "execution_count": 58,
   "metadata": {},
   "outputs": [
    {
     "name": "stdout",
     "output_type": "stream",
     "text": [
      "(100, 560034, 'whitefelid', 'ineuron office ', 2423543454353, 100, 'audh', 'audh@ineuron.ai', 200)\n",
      "(101, 560034, 'whitefelid', 'ineuron office ', 2423543454353, 101, 'budh', 'budh@ineuron.ai', 201)\n",
      "(102, 560034, 'whitefelid', 'ineuron office ', 2423543454353, 102, 'cudh', 'cudh@ineuron.ai', 202)\n",
      "(103, 560034, 'whitefelid', 'ineuron office ', 2423543454353, 103, 'dudh', 'dudh@ineuron.ai', 203)\n",
      "(104, 560034, 'whitefelid', 'ineuron office ', 2423543454353, 104, 'eudh', 'eudh@ineuron.ai', 204)\n",
      "(23345, 560034, 'whitefelid', 'ineuron office ', 2423543454353, None, None, None, None)\n",
      "(23345, 560034, 'whitefelid', 'ineuron office ', 2423543454353, None, None, None, None)\n",
      "(23654, 560034, 'whitefelid', 'ineuron office ', 2423543454353, None, None, None, None)\n",
      "(235345, 560034, 'whitefelid', 'ineuron office ', 2423543454353, None, None, None, None)\n",
      "(23665, 560034, 'whitefelid', 'ineuron office ', 2423543454353, None, None, None, None)\n",
      "(23623, 560034, 'whitefelid', 'ineuron office ', 2423543454353, None, None, None, None)\n",
      "(23689, 560034, 'whitefelid', 'ineuron office ', 2423543454353, None, None, None, None)\n",
      "(23609, 560034, 'whitefelid', 'ineuron office ', 2423543454353, None, None, None, None)\n",
      "(23632, 560034, 'whitefelid', 'ineuron office ', 2423543454353, None, None, None, None)\n",
      "(23689, 560034, 'whitefelid', 'ineuron office ', 2423543454353, None, None, None, None)\n",
      "(23623, 560034, 'whitefelid', 'ineuron office ', 2423543454353, None, None, None, None)\n",
      "(23698, 560034, 'whitefelid', 'ineuron office ', 2423543454353, None, None, None, None)\n",
      "(23623, 560034, 'whitefelid', 'ineuron office ', 2423543454353, None, None, None, None)\n",
      "(23689, 560034, 'whitefelid', 'ineuron office ', 2423543454353, None, None, None, None)\n",
      "(23623, 560034, 'whitefelid', 'ineuron office ', 2423543454353, None, None, None, None)\n",
      "(23690, 560034, 'whitefelid', 'ineuron office ', 2423543454353, None, None, None, None)\n"
     ]
    }
   ],
   "source": [
    "for i in data:\n",
    "    print(i)"
   ]
  },
  {
   "cell_type": "code",
   "execution_count": 59,
   "metadata": {},
   "outputs": [
    {
     "name": "stdout",
     "output_type": "stream",
     "text": [
      "(100, 'audh', 'audh@ineuron.ai', 200)\n",
      "(101, 'budh', 'budh@ineuron.ai', 201)\n",
      "(102, 'cudh', 'cudh@ineuron.ai', 202)\n",
      "(103, 'dudh', 'dudh@ineuron.ai', 203)\n",
      "(104, 'eudh', 'eudh@ineuron.ai', 204)\n",
      "(105, 'fudh', 'fudh@ineuron.ai', 205)\n",
      "(106, 'gudh', 'gudh@ineuron.ai', 206)\n",
      "(107, 'hudh', 'hudh@ineuron.ai', 207)\n",
      "(108, 'iudh', 'iudh@ineuron.ai', 208)\n",
      "(109, 'judh', 'judh@ineuron.ai', 209)\n",
      "(110, 'kudh', 'kudh@ineuron.ai', 210)\n",
      "(111, 'mudh', 'mudh@ineuron.ai', 211)\n"
     ]
    }
   ],
   "source": [
    "for i in c.execute(\"select * from student\"):\n",
    "    print(i)"
   ]
  },
  {
   "cell_type": "code",
   "execution_count": 60,
   "metadata": {},
   "outputs": [
    {
     "data": {
      "text/plain": [
       "<sqlite3.Cursor at 0x1e419476dc0>"
      ]
     },
     "execution_count": 60,
     "metadata": {},
     "output_type": "execute_result"
    }
   ],
   "source": [
    "c.execute('delete from student where student_id >105')"
   ]
  },
  {
   "cell_type": "code",
   "execution_count": 61,
   "metadata": {},
   "outputs": [
    {
     "name": "stdout",
     "output_type": "stream",
     "text": [
      "(100, 'audh', 'audh@ineuron.ai', 200)\n",
      "(101, 'budh', 'budh@ineuron.ai', 201)\n",
      "(102, 'cudh', 'cudh@ineuron.ai', 202)\n",
      "(103, 'dudh', 'dudh@ineuron.ai', 203)\n",
      "(104, 'eudh', 'eudh@ineuron.ai', 204)\n",
      "(105, 'fudh', 'fudh@ineuron.ai', 205)\n"
     ]
    }
   ],
   "source": [
    "for i in c.execute(\"select * from student\"):\n",
    "    print(i)"
   ]
  },
  {
   "cell_type": "code",
   "execution_count": 62,
   "metadata": {},
   "outputs": [],
   "source": [
    "data=c.execute(\"select * from student\")"
   ]
  },
  {
   "cell_type": "code",
   "execution_count": 63,
   "metadata": {},
   "outputs": [
    {
     "data": {
      "text/plain": [
       "[(100, 'audh', 'audh@ineuron.ai', 200),\n",
       " (101, 'budh', 'budh@ineuron.ai', 201),\n",
       " (102, 'cudh', 'cudh@ineuron.ai', 202),\n",
       " (103, 'dudh', 'dudh@ineuron.ai', 203),\n",
       " (104, 'eudh', 'eudh@ineuron.ai', 204),\n",
       " (105, 'fudh', 'fudh@ineuron.ai', 205)]"
      ]
     },
     "execution_count": 63,
     "metadata": {},
     "output_type": "execute_result"
    }
   ],
   "source": [
    "data.fetchall()"
   ]
  },
  {
   "cell_type": "code",
   "execution_count": 64,
   "metadata": {},
   "outputs": [
    {
     "data": {
      "text/plain": [
       "<sqlite3.Cursor at 0x1e419476dc0>"
      ]
     },
     "execution_count": 64,
     "metadata": {},
     "output_type": "execute_result"
    }
   ],
   "source": [
    "c.execute(\"update student set student_id=1000 where student_id=103\")"
   ]
  },
  {
   "cell_type": "code",
   "execution_count": 65,
   "metadata": {},
   "outputs": [
    {
     "data": {
      "text/plain": [
       "[(100, 'audh', 'audh@ineuron.ai', 200),\n",
       " (101, 'budh', 'budh@ineuron.ai', 201),\n",
       " (102, 'cudh', 'cudh@ineuron.ai', 202),\n",
       " (1000, 'dudh', 'dudh@ineuron.ai', 203),\n",
       " (104, 'eudh', 'eudh@ineuron.ai', 204),\n",
       " (105, 'fudh', 'fudh@ineuron.ai', 205)]"
      ]
     },
     "execution_count": 65,
     "metadata": {},
     "output_type": "execute_result"
    }
   ],
   "source": [
    "data=c.execute('select * from student')\n",
    "data.fetchall()"
   ]
  },
  {
   "cell_type": "code",
   "execution_count": 66,
   "metadata": {},
   "outputs": [],
   "source": [
    "db.close()"
   ]
  },
  {
   "cell_type": "markdown",
   "metadata": {},
   "source": [
    "## SQLLITE map, reduce and filter"
   ]
  },
  {
   "cell_type": "code",
   "execution_count": 79,
   "metadata": {},
   "outputs": [],
   "source": [
    "l=[1,2,3,4,5,6]"
   ]
  },
  {
   "cell_type": "code",
   "execution_count": 80,
   "metadata": {},
   "outputs": [],
   "source": [
    "l1=[]\n",
    "for i in l:\n",
    "    l1.append(i+5)\n",
    "# this is how we will write a code to incriment with 5 using for loop"
   ]
  },
  {
   "cell_type": "code",
   "execution_count": 81,
   "metadata": {},
   "outputs": [
    {
     "data": {
      "text/plain": [
       "[6, 7, 8, 9, 10, 11]"
      ]
     },
     "execution_count": 81,
     "metadata": {},
     "output_type": "execute_result"
    }
   ],
   "source": [
    "l1"
   ]
  },
  {
   "cell_type": "code",
   "execution_count": 82,
   "metadata": {},
   "outputs": [
    {
     "data": {
      "text/plain": [
       "[6, 7, 8, 9, 10, 11]"
      ]
     },
     "execution_count": 82,
     "metadata": {},
     "output_type": "execute_result"
    }
   ],
   "source": [
    "[i+5 for i in l]\n",
    "# another way of writing a code using for loop"
   ]
  },
  {
   "cell_type": "code",
   "execution_count": 83,
   "metadata": {},
   "outputs": [],
   "source": [
    "def test(a):\n",
    "    return a+5"
   ]
  },
  {
   "cell_type": "code",
   "execution_count": 84,
   "metadata": {},
   "outputs": [
    {
     "data": {
      "text/plain": [
       "[6, 7, 8, 9, 10, 11]"
      ]
     },
     "execution_count": 84,
     "metadata": {},
     "output_type": "execute_result"
    }
   ],
   "source": [
    "list(map(test,l))"
   ]
  },
  {
   "cell_type": "code",
   "execution_count": 85,
   "metadata": {},
   "outputs": [],
   "source": [
    "def test1(a):\n",
    "    return a*100+256"
   ]
  },
  {
   "cell_type": "code",
   "execution_count": 86,
   "metadata": {},
   "outputs": [
    {
     "data": {
      "text/plain": [
       "[356, 456, 556, 656, 756, 856]"
      ]
     },
     "execution_count": 86,
     "metadata": {},
     "output_type": "execute_result"
    }
   ],
   "source": [
    "list(map(test1,l))"
   ]
  },
  {
   "cell_type": "code",
   "execution_count": 87,
   "metadata": {},
   "outputs": [],
   "source": [
    "l1=['234','345','543','5435','543','5435']\n",
    "# it is in the form of str, but we want it to integer"
   ]
  },
  {
   "cell_type": "code",
   "execution_count": 89,
   "metadata": {},
   "outputs": [],
   "source": [
    "def test2(a):\n",
    "    return int(a)"
   ]
  },
  {
   "cell_type": "code",
   "execution_count": 90,
   "metadata": {},
   "outputs": [
    {
     "data": {
      "text/plain": [
       "5435"
      ]
     },
     "execution_count": 90,
     "metadata": {},
     "output_type": "execute_result"
    }
   ],
   "source": [
    "test2('5435')"
   ]
  },
  {
   "cell_type": "code",
   "execution_count": 91,
   "metadata": {},
   "outputs": [
    {
     "data": {
      "text/plain": [
       "[234, 345, 543, 5435, 543, 5435]"
      ]
     },
     "execution_count": 91,
     "metadata": {},
     "output_type": "execute_result"
    }
   ],
   "source": [
    "list(map(test2,l1))\n",
    "# here we can convert entire string into integer"
   ]
  },
  {
   "cell_type": "code",
   "execution_count": 92,
   "metadata": {},
   "outputs": [
    {
     "data": {
      "text/plain": [
       "[234, 345, 543, 5435, 543, 5435]"
      ]
     },
     "execution_count": 92,
     "metadata": {},
     "output_type": "execute_result"
    }
   ],
   "source": [
    "list(map(lambda x:int(x),l1 ))\n",
    "# using lambda function also we can convert entire string in a list into integer"
   ]
  },
  {
   "cell_type": "code",
   "execution_count": 93,
   "metadata": {},
   "outputs": [
    {
     "data": {
      "text/plain": [
       "[6, 7, 8, 9, 10, 11]"
      ]
     },
     "execution_count": 93,
     "metadata": {},
     "output_type": "execute_result"
    }
   ],
   "source": [
    "list(map(lambda x:x+5,l))"
   ]
  },
  {
   "cell_type": "code",
   "execution_count": 95,
   "metadata": {},
   "outputs": [],
   "source": [
    "l3=[4,5,6,7,78,8,78]\n",
    "#filter operation, print only even number"
   ]
  },
  {
   "cell_type": "code",
   "execution_count": 96,
   "metadata": {},
   "outputs": [],
   "source": [
    "def test4(a):\n",
    "    if a%2==0:\n",
    "        return a"
   ]
  },
  {
   "cell_type": "code",
   "execution_count": 98,
   "metadata": {},
   "outputs": [
    {
     "data": {
      "text/plain": [
       "[4, 6, 78, 8, 78]"
      ]
     },
     "execution_count": 98,
     "metadata": {},
     "output_type": "execute_result"
    }
   ],
   "source": [
    "[i for i in l if i%2==0]"
   ]
  },
  {
   "cell_type": "code",
   "execution_count": 99,
   "metadata": {},
   "outputs": [
    {
     "data": {
      "text/plain": [
       "[4, None, 6, None, 78, 8, 78]"
      ]
     },
     "execution_count": 99,
     "metadata": {},
     "output_type": "execute_result"
    }
   ],
   "source": [
    "list(map(test4,l3)) # using map function"
   ]
  },
  {
   "cell_type": "code",
   "execution_count": 101,
   "metadata": {},
   "outputs": [
    {
     "data": {
      "text/plain": [
       "[4, 6, 78, 8, 78]"
      ]
     },
     "execution_count": 101,
     "metadata": {},
     "output_type": "execute_result"
    }
   ],
   "source": [
    "# using filter operation\n",
    "list(filter(test4,l3))"
   ]
  },
  {
   "cell_type": "code",
   "execution_count": 102,
   "metadata": {},
   "outputs": [
    {
     "data": {
      "text/plain": [
       "[4, 6, 78, 8, 78]"
      ]
     },
     "execution_count": 102,
     "metadata": {},
     "output_type": "execute_result"
    }
   ],
   "source": [
    "list(filter(lambda x:x%2==0,l3))\n",
    "# using filter and lambda function"
   ]
  },
  {
   "cell_type": "code",
   "execution_count": 103,
   "metadata": {},
   "outputs": [],
   "source": [
    "### reduce function ###"
   ]
  },
  {
   "cell_type": "code",
   "execution_count": 105,
   "metadata": {},
   "outputs": [],
   "source": [
    "from functools import reduce"
   ]
  },
  {
   "cell_type": "code",
   "execution_count": 106,
   "metadata": {},
   "outputs": [],
   "source": [
    "l=[3,4,5,6,7,3,8]"
   ]
  },
  {
   "cell_type": "code",
   "execution_count": 107,
   "metadata": {},
   "outputs": [
    {
     "data": {
      "text/plain": [
       "36"
      ]
     },
     "execution_count": 107,
     "metadata": {},
     "output_type": "execute_result"
    }
   ],
   "source": [
    "sum(l)\n",
    "## reduce operation using sum in simple way"
   ]
  },
  {
   "cell_type": "code",
   "execution_count": 108,
   "metadata": {},
   "outputs": [],
   "source": [
    "def test5(a,b):\n",
    "    return a+b"
   ]
  },
  {
   "cell_type": "code",
   "execution_count": 109,
   "metadata": {},
   "outputs": [
    {
     "data": {
      "text/plain": [
       "36"
      ]
     },
     "execution_count": 109,
     "metadata": {},
     "output_type": "execute_result"
    }
   ],
   "source": [
    "reduce(test5,l)"
   ]
  },
  {
   "cell_type": "code",
   "execution_count": 110,
   "metadata": {},
   "outputs": [],
   "source": [
    "def test5(a,b):\n",
    "    return a*b"
   ]
  },
  {
   "cell_type": "code",
   "execution_count": 111,
   "metadata": {},
   "outputs": [
    {
     "data": {
      "text/plain": [
       "60480"
      ]
     },
     "execution_count": 111,
     "metadata": {},
     "output_type": "execute_result"
    }
   ],
   "source": [
    "reduce(test5,l)"
   ]
  },
  {
   "cell_type": "code",
   "execution_count": 112,
   "metadata": {},
   "outputs": [],
   "source": [
    "l=[3]"
   ]
  },
  {
   "cell_type": "code",
   "execution_count": 113,
   "metadata": {},
   "outputs": [
    {
     "data": {
      "text/plain": [
       "3"
      ]
     },
     "execution_count": 113,
     "metadata": {},
     "output_type": "execute_result"
    }
   ],
   "source": [
    "reduce(test5,l)\n",
    "# it works if list conatin one element also"
   ]
  },
  {
   "cell_type": "code",
   "execution_count": 114,
   "metadata": {},
   "outputs": [],
   "source": [
    "l=[]"
   ]
  },
  {
   "cell_type": "code",
   "execution_count": 115,
   "metadata": {},
   "outputs": [
    {
     "ename": "AttributeError",
     "evalue": "'function' object has no attribute 'l'",
     "output_type": "error",
     "traceback": [
      "\u001b[1;31m---------------------------------------------------------------------------\u001b[0m",
      "\u001b[1;31mAttributeError\u001b[0m                            Traceback (most recent call last)",
      "\u001b[1;32m<ipython-input-115-8c9ce388fdd9>\u001b[0m in \u001b[0;36m<module>\u001b[1;34m\u001b[0m\n\u001b[1;32m----> 1\u001b[1;33m \u001b[0mreduce\u001b[0m\u001b[1;33m(\u001b[0m\u001b[0mtest5\u001b[0m\u001b[1;33m.\u001b[0m\u001b[0ml\u001b[0m\u001b[1;33m)\u001b[0m\u001b[1;33m\u001b[0m\u001b[1;33m\u001b[0m\u001b[0m\n\u001b[0m",
      "\u001b[1;31mAttributeError\u001b[0m: 'function' object has no attribute 'l'"
     ]
    }
   ],
   "source": [
    "reduce(test5.l)\n",
    "# it will give an error, atleast one element require"
   ]
  },
  {
   "cell_type": "code",
   "execution_count": 117,
   "metadata": {},
   "outputs": [
    {
     "data": {
      "text/plain": [
       "15"
      ]
     },
     "execution_count": 117,
     "metadata": {},
     "output_type": "execute_result"
    }
   ],
   "source": [
    "l=[1,2,3,4,5]\n",
    "reduce(lambda x,y:x+y,l)"
   ]
  },
  {
   "cell_type": "code",
   "execution_count": 119,
   "metadata": {},
   "outputs": [],
   "source": [
    "## Zip ##"
   ]
  },
  {
   "cell_type": "code",
   "execution_count": 122,
   "metadata": {},
   "outputs": [],
   "source": [
    "l1=[1,2,3,4,5]\n",
    "l2=[4,5,6,7,8]\n",
    "l3=['sudh','channu','krish','sah','guru']"
   ]
  },
  {
   "cell_type": "code",
   "execution_count": 124,
   "metadata": {},
   "outputs": [
    {
     "data": {
      "text/plain": [
       "[(1, 4, 'sudh'),\n",
       " (2, 5, 'channu'),\n",
       " (3, 6, 'krish'),\n",
       " (4, 7, 'sah'),\n",
       " (5, 8, 'guru')]"
      ]
     },
     "execution_count": 124,
     "metadata": {},
     "output_type": "execute_result"
    }
   ],
   "source": [
    "list(zip(l1,l2,l3))"
   ]
  },
  {
   "cell_type": "code",
   "execution_count": 125,
   "metadata": {},
   "outputs": [],
   "source": [
    "l4=[1,2,3]\n",
    "l5=[4,5,6,7,8]\n",
    "l6=['sudh','channu','krish','sah','guru']"
   ]
  },
  {
   "cell_type": "code",
   "execution_count": 126,
   "metadata": {},
   "outputs": [
    {
     "data": {
      "text/plain": [
       "[(1, 4, 'sudh'), (2, 5, 'channu'), (3, 6, 'krish')]"
      ]
     },
     "execution_count": 126,
     "metadata": {},
     "output_type": "execute_result"
    }
   ],
   "source": [
    "list(zip(l4,l5,l6))"
   ]
  },
  {
   "cell_type": "code",
   "execution_count": null,
   "metadata": {},
   "outputs": [],
   "source": []
  }
 ],
 "metadata": {
  "kernelspec": {
   "display_name": "Python 3",
   "language": "python",
   "name": "python3"
  },
  "language_info": {
   "codemirror_mode": {
    "name": "ipython",
    "version": 3
   },
   "file_extension": ".py",
   "mimetype": "text/x-python",
   "name": "python",
   "nbconvert_exporter": "python",
   "pygments_lexer": "ipython3",
   "version": "3.8.5"
  }
 },
 "nbformat": 4,
 "nbformat_minor": 4
}
